{
 "cells": [
  {
   "cell_type": "markdown",
   "metadata": {},
   "source": [
    "# Accessing the SCP York database\n",
    "A quick demonstration on how to do this using the R psotgres library\n",
    "`install.packages('RPostgreSQL')`\n",
    "\n",
    "For questions contact daniel.ellis@york.ac.[uk]\n",
    "\n",
    "\n",
    "R can be installed on anaconda using `conda install -c r r-irkernel`"
   ]
  },
  {
   "cell_type": "code",
   "execution_count": 1,
   "metadata": {},
   "outputs": [
    {
     "name": "stderr",
     "output_type": "stream",
     "text": [
      "Loading required package: DBI\n"
     ]
    }
   ],
   "source": [
    "library('RPostgreSQL')"
   ]
  },
  {
   "cell_type": "code",
   "execution_count": 2,
   "metadata": {},
   "outputs": [],
   "source": [
    "# Lets log into the database\n",
    "\n",
    "pg = dbDriver(\"PostgreSQL\")\n",
    "\n",
    "cred = scan('~/.postgres_login', what=\"character\")\n",
    "\n",
    "con = dbConnect(pg, user= cred[1], password= cred[2],\n",
    "                host= paste(cred[3],\".york.ac.uk\",sep=''),\n",
    "                port=5432, dbname=cred[4])\n",
    "\n"
   ]
  },
  {
   "cell_type": "markdown",
   "metadata": {},
   "source": [
    "### Now we are connected, we can have a look at querying.\n"
   ]
  },
  {
   "cell_type": "markdown",
   "metadata": {},
   "source": [
    "## Reading a Table\n",
    "Lets read the first 5 results from the countries table.\n",
    "\n",
    "Double quotation marks are not usually needed.\n"
   ]
  },
  {
   "cell_type": "code",
   "execution_count": 3,
   "metadata": {},
   "outputs": [],
   "source": [
    "sql = 'SELECT * from \"comm_trade.countries\" LIMIT 5;'"
   ]
  },
  {
   "cell_type": "code",
   "execution_count": 4,
   "metadata": {},
   "outputs": [],
   "source": [
    "# read back the full table\n",
    "dtab = dbGetQuery(con, sql)"
   ]
  },
  {
   "cell_type": "code",
   "execution_count": 5,
   "metadata": {},
   "outputs": [
    {
     "data": {
      "text/html": [
       "<table>\n",
       "<thead><tr><th scope=col>index</th><th scope=col>area_code</th><th scope=col>name</th><th scope=col>iso</th></tr></thead>\n",
       "<tbody>\n",
       "\t<tr><td>0         </td><td> 10       </td><td>Antarctica</td><td>ATA       </td></tr>\n",
       "\t<tr><td>1         </td><td>100       </td><td>Bulgaria  </td><td>BGR       </td></tr>\n",
       "\t<tr><td>2         </td><td>104       </td><td>Myanmar   </td><td>MMR       </td></tr>\n",
       "\t<tr><td>3         </td><td>108       </td><td>Burundi   </td><td>BDI       </td></tr>\n",
       "\t<tr><td>4         </td><td>112       </td><td>Belarus   </td><td>BLR       </td></tr>\n",
       "</tbody>\n",
       "</table>\n"
      ],
      "text/latex": [
       "\\begin{tabular}{r|llll}\n",
       " index & area\\_code & name & iso\\\\\n",
       "\\hline\n",
       "\t 0          &  10        & Antarctica & ATA       \\\\\n",
       "\t 1          & 100        & Bulgaria   & BGR       \\\\\n",
       "\t 2          & 104        & Myanmar    & MMR       \\\\\n",
       "\t 3          & 108        & Burundi    & BDI       \\\\\n",
       "\t 4          & 112        & Belarus    & BLR       \\\\\n",
       "\\end{tabular}\n"
      ],
      "text/markdown": [
       "\n",
       "| index | area_code | name | iso |\n",
       "|---|---|---|---|\n",
       "| 0          |  10        | Antarctica | ATA        |\n",
       "| 1          | 100        | Bulgaria   | BGR        |\n",
       "| 2          | 104        | Myanmar    | MMR        |\n",
       "| 3          | 108        | Burundi    | BDI        |\n",
       "| 4          | 112        | Belarus    | BLR        |\n",
       "\n"
      ],
      "text/plain": [
       "  index area_code name       iso\n",
       "1 0      10       Antarctica ATA\n",
       "2 1     100       Bulgaria   BGR\n",
       "3 2     104       Myanmar    MMR\n",
       "4 3     108       Burundi    BDI\n",
       "5 4     112       Belarus    BLR"
      ]
     },
     "metadata": {},
     "output_type": "display_data"
    }
   ],
   "source": [
    "dtab"
   ]
  },
  {
   "cell_type": "markdown",
   "metadata": {},
   "source": [
    "### If we wish to only take the 'name' and 'area_code' columns:"
   ]
  },
  {
   "cell_type": "code",
   "execution_count": 6,
   "metadata": {},
   "outputs": [
    {
     "data": {
      "text/html": [
       "<table>\n",
       "<thead><tr><th scope=col>name</th><th scope=col>area_code</th></tr></thead>\n",
       "<tbody>\n",
       "\t<tr><td>Antarctica</td><td> 10       </td></tr>\n",
       "\t<tr><td>Bulgaria  </td><td>100       </td></tr>\n",
       "\t<tr><td>Myanmar   </td><td>104       </td></tr>\n",
       "\t<tr><td>Burundi   </td><td>108       </td></tr>\n",
       "\t<tr><td>Belarus   </td><td>112       </td></tr>\n",
       "</tbody>\n",
       "</table>\n"
      ],
      "text/latex": [
       "\\begin{tabular}{r|ll}\n",
       " name & area\\_code\\\\\n",
       "\\hline\n",
       "\t Antarctica &  10       \\\\\n",
       "\t Bulgaria   & 100       \\\\\n",
       "\t Myanmar    & 104       \\\\\n",
       "\t Burundi    & 108       \\\\\n",
       "\t Belarus    & 112       \\\\\n",
       "\\end{tabular}\n"
      ],
      "text/markdown": [
       "\n",
       "| name | area_code |\n",
       "|---|---|\n",
       "| Antarctica |  10        |\n",
       "| Bulgaria   | 100        |\n",
       "| Myanmar    | 104        |\n",
       "| Burundi    | 108        |\n",
       "| Belarus    | 112        |\n",
       "\n"
      ],
      "text/plain": [
       "  name       area_code\n",
       "1 Antarctica  10      \n",
       "2 Bulgaria   100      \n",
       "3 Myanmar    104      \n",
       "4 Burundi    108      \n",
       "5 Belarus    112      "
      ]
     },
     "metadata": {},
     "output_type": "display_data"
    }
   ],
   "source": [
    "sql = '\n",
    "        SELECT name,area_code \n",
    "        from \"comm_trade.countries\" \n",
    "        LIMIT 5;\n",
    "'\n",
    "# read back the full table\n",
    "dtab = dbGetQuery(con, sql)\n",
    "dtab"
   ]
  },
  {
   "cell_type": "markdown",
   "metadata": {},
   "source": [
    "## Structure\n",
    "Databases consist of groups of tables (Schemas). These represent the different projects that may exist\n",
    "\n",
    "# List all schemas\n",
    "Use `\\dn+` in psql"
   ]
  },
  {
   "cell_type": "code",
   "execution_count": 7,
   "metadata": {},
   "outputs": [
    {
     "data": {
      "text/html": [
       "<table>\n",
       "<thead><tr><th scope=col>schema_name</th></tr></thead>\n",
       "<tbody>\n",
       "\t<tr><td>pg_catalog        </td></tr>\n",
       "\t<tr><td>information_schema</td></tr>\n",
       "\t<tr><td>public            </td></tr>\n",
       "\t<tr><td>scpdata           </td></tr>\n",
       "\t<tr><td>comm_trade        </td></tr>\n",
       "\t<tr><td>fao               </td></tr>\n",
       "</tbody>\n",
       "</table>\n"
      ],
      "text/latex": [
       "\\begin{tabular}{r|l}\n",
       " schema\\_name\\\\\n",
       "\\hline\n",
       "\t pg\\_catalog        \\\\\n",
       "\t information\\_schema\\\\\n",
       "\t public            \\\\\n",
       "\t scpdata           \\\\\n",
       "\t comm\\_trade        \\\\\n",
       "\t fao               \\\\\n",
       "\\end{tabular}\n"
      ],
      "text/markdown": [
       "\n",
       "| schema_name |\n",
       "|---|\n",
       "| pg_catalog         |\n",
       "| information_schema |\n",
       "| public             |\n",
       "| scpdata            |\n",
       "| comm_trade         |\n",
       "| fao                |\n",
       "\n"
      ],
      "text/plain": [
       "  schema_name       \n",
       "1 pg_catalog        \n",
       "2 information_schema\n",
       "3 public            \n",
       "4 scpdata           \n",
       "5 comm_trade        \n",
       "6 fao               "
      ]
     },
     "metadata": {},
     "output_type": "display_data"
    }
   ],
   "source": [
    "sql = 'SELECT schema_name\n",
    "       FROM information_schema.schemata'\n",
    "dbGetQuery(con, sql)\n"
   ]
  },
  {
   "cell_type": "markdown",
   "metadata": {},
   "source": [
    "### If we then wish to see what tables exist within a certain schema (eg. fao)"
   ]
  },
  {
   "cell_type": "code",
   "execution_count": 8,
   "metadata": {},
   "outputs": [
    {
     "data": {
      "text/html": [
       "<table>\n",
       "<thead><tr><th scope=col>table_name</th></tr></thead>\n",
       "<tbody>\n",
       "\t<tr><td>element      </td></tr>\n",
       "\t<tr><td>flags        </td></tr>\n",
       "\t<tr><td>countries    </td></tr>\n",
       "\t<tr><td>items        </td></tr>\n",
       "\t<tr><td>cb_production</td></tr>\n",
       "</tbody>\n",
       "</table>\n"
      ],
      "text/latex": [
       "\\begin{tabular}{r|l}\n",
       " table\\_name\\\\\n",
       "\\hline\n",
       "\t element      \\\\\n",
       "\t flags        \\\\\n",
       "\t countries    \\\\\n",
       "\t items        \\\\\n",
       "\t cb\\_production\\\\\n",
       "\\end{tabular}\n"
      ],
      "text/markdown": [
       "\n",
       "| table_name |\n",
       "|---|\n",
       "| element       |\n",
       "| flags         |\n",
       "| countries     |\n",
       "| items         |\n",
       "| cb_production |\n",
       "\n"
      ],
      "text/plain": [
       "  table_name   \n",
       "1 element      \n",
       "2 flags        \n",
       "3 countries    \n",
       "4 items        \n",
       "5 cb_production"
      ]
     },
     "metadata": {},
     "output_type": "display_data"
    }
   ],
   "source": [
    "sql = \"\n",
    "        SELECT table_name \n",
    "        FROM information_schema.tables\n",
    "        WHERE table_schema='fao';\n",
    "\"\n",
    "dtab = dbGetQuery(con, sql)\n",
    "dtab\n"
   ]
  },
  {
   "cell_type": "markdown",
   "metadata": {},
   "source": [
    "### Finally we may also view the properties of a table within that schema, e.g. the commodity balance table from the fao schema\n",
    "\n",
    "Use `\\dt` tablename in psql"
   ]
  },
  {
   "cell_type": "code",
   "execution_count": 9,
   "metadata": {},
   "outputs": [
    {
     "data": {
      "text/html": [
       "<table>\n",
       "<thead><tr><th scope=col>table_catalog</th><th scope=col>table_schema</th><th scope=col>table_name</th><th scope=col>column_name</th><th scope=col>ordinal_position</th><th scope=col>is_nullable</th><th scope=col>data_type</th><th scope=col>character_maximum_length</th></tr></thead>\n",
       "<tbody>\n",
       "\t<tr><td>scpdata          </td><td>fao              </td><td>cb_production    </td><td>area_code        </td><td>1                </td><td>NO               </td><td>integer          </td><td> NA              </td></tr>\n",
       "\t<tr><td>scpdata          </td><td>fao              </td><td>cb_production    </td><td>item_code        </td><td>2                </td><td>NO               </td><td>integer          </td><td> NA              </td></tr>\n",
       "\t<tr><td>scpdata          </td><td>fao              </td><td>cb_production    </td><td>year             </td><td>3                </td><td>NO               </td><td>integer          </td><td> NA              </td></tr>\n",
       "\t<tr><td>scpdata          </td><td>fao              </td><td>cb_production    </td><td>unit             </td><td>4                </td><td>YES              </td><td>character varying</td><td>500              </td></tr>\n",
       "\t<tr><td>scpdata          </td><td>fao              </td><td>cb_production    </td><td>value            </td><td>5                </td><td>NO               </td><td>numeric          </td><td> NA              </td></tr>\n",
       "\t<tr><td>scpdata          </td><td>fao              </td><td>cb_production    </td><td>flag             </td><td>6                </td><td>YES              </td><td>character varying</td><td>  5              </td></tr>\n",
       "</tbody>\n",
       "</table>\n"
      ],
      "text/latex": [
       "\\begin{tabular}{r|llllllll}\n",
       " table\\_catalog & table\\_schema & table\\_name & column\\_name & ordinal\\_position & is\\_nullable & data\\_type & character\\_maximum\\_length\\\\\n",
       "\\hline\n",
       "\t scpdata           & fao               & cb\\_production   & area\\_code       & 1                 & NO                & integer           &  NA              \\\\\n",
       "\t scpdata           & fao               & cb\\_production   & item\\_code       & 2                 & NO                & integer           &  NA              \\\\\n",
       "\t scpdata           & fao               & cb\\_production   & year              & 3                 & NO                & integer           &  NA              \\\\\n",
       "\t scpdata           & fao               & cb\\_production   & unit              & 4                 & YES               & character varying & 500              \\\\\n",
       "\t scpdata           & fao               & cb\\_production   & value             & 5                 & NO                & numeric           &  NA              \\\\\n",
       "\t scpdata           & fao               & cb\\_production   & flag              & 6                 & YES               & character varying &   5              \\\\\n",
       "\\end{tabular}\n"
      ],
      "text/markdown": [
       "\n",
       "| table_catalog | table_schema | table_name | column_name | ordinal_position | is_nullable | data_type | character_maximum_length |\n",
       "|---|---|---|---|---|---|---|---|\n",
       "| scpdata           | fao               | cb_production     | area_code         | 1                 | NO                | integer           |  NA               |\n",
       "| scpdata           | fao               | cb_production     | item_code         | 2                 | NO                | integer           |  NA               |\n",
       "| scpdata           | fao               | cb_production     | year              | 3                 | NO                | integer           |  NA               |\n",
       "| scpdata           | fao               | cb_production     | unit              | 4                 | YES               | character varying | 500               |\n",
       "| scpdata           | fao               | cb_production     | value             | 5                 | NO                | numeric           |  NA               |\n",
       "| scpdata           | fao               | cb_production     | flag              | 6                 | YES               | character varying |   5               |\n",
       "\n"
      ],
      "text/plain": [
       "  table_catalog table_schema table_name    column_name ordinal_position\n",
       "1 scpdata       fao          cb_production area_code   1               \n",
       "2 scpdata       fao          cb_production item_code   2               \n",
       "3 scpdata       fao          cb_production year        3               \n",
       "4 scpdata       fao          cb_production unit        4               \n",
       "5 scpdata       fao          cb_production value       5               \n",
       "6 scpdata       fao          cb_production flag        6               \n",
       "  is_nullable data_type         character_maximum_length\n",
       "1 NO          integer            NA                     \n",
       "2 NO          integer            NA                     \n",
       "3 NO          integer            NA                     \n",
       "4 YES         character varying 500                     \n",
       "5 NO          numeric            NA                     \n",
       "6 YES         character varying   5                     "
      ]
     },
     "metadata": {},
     "output_type": "display_data"
    }
   ],
   "source": [
    "sql = \"\n",
    "    SELECT table_catalog,table_schema,table_name,column_name,ordinal_position,is_nullable,data_type,character_maximum_length\n",
    "    FROM information_schema.columns \n",
    "    WHERE table_schema = 'fao' AND table_name = 'cb_production'\n",
    ";\"\n",
    "dtab = dbGetQuery(con, sql)\n",
    "dtab\n"
   ]
  },
  {
   "cell_type": "markdown",
   "metadata": {},
   "source": [
    "# Querying \n",
    "### Now lets explore the contents\n",
    "(showing only the first 5 results)"
   ]
  },
  {
   "cell_type": "code",
   "execution_count": 10,
   "metadata": {},
   "outputs": [
    {
     "data": {
      "text/html": [
       "<table>\n",
       "<thead><tr><th scope=col>area_code</th><th scope=col>item_code</th><th scope=col>year</th><th scope=col>unit</th><th scope=col>value</th><th scope=col>flag</th></tr></thead>\n",
       "<tbody>\n",
       "\t<tr><td>2     </td><td>2617  </td><td>1961  </td><td>tonnes</td><td>15100 </td><td>S     </td></tr>\n",
       "\t<tr><td>2     </td><td>2617  </td><td>1962  </td><td>tonnes</td><td>15100 </td><td>S     </td></tr>\n",
       "\t<tr><td>2     </td><td>2617  </td><td>1963  </td><td>tonnes</td><td>15100 </td><td>S     </td></tr>\n",
       "\t<tr><td>2     </td><td>2617  </td><td>1964  </td><td>tonnes</td><td>18400 </td><td>S     </td></tr>\n",
       "\t<tr><td>2     </td><td>2617  </td><td>1965  </td><td>tonnes</td><td>20400 </td><td>S     </td></tr>\n",
       "</tbody>\n",
       "</table>\n"
      ],
      "text/latex": [
       "\\begin{tabular}{r|llllll}\n",
       " area\\_code & item\\_code & year & unit & value & flag\\\\\n",
       "\\hline\n",
       "\t 2      & 2617   & 1961   & tonnes & 15100  & S     \\\\\n",
       "\t 2      & 2617   & 1962   & tonnes & 15100  & S     \\\\\n",
       "\t 2      & 2617   & 1963   & tonnes & 15100  & S     \\\\\n",
       "\t 2      & 2617   & 1964   & tonnes & 18400  & S     \\\\\n",
       "\t 2      & 2617   & 1965   & tonnes & 20400  & S     \\\\\n",
       "\\end{tabular}\n"
      ],
      "text/markdown": [
       "\n",
       "| area_code | item_code | year | unit | value | flag |\n",
       "|---|---|---|---|---|---|\n",
       "| 2      | 2617   | 1961   | tonnes | 15100  | S      |\n",
       "| 2      | 2617   | 1962   | tonnes | 15100  | S      |\n",
       "| 2      | 2617   | 1963   | tonnes | 15100  | S      |\n",
       "| 2      | 2617   | 1964   | tonnes | 18400  | S      |\n",
       "| 2      | 2617   | 1965   | tonnes | 20400  | S      |\n",
       "\n"
      ],
      "text/plain": [
       "  area_code item_code year unit   value flag\n",
       "1 2         2617      1961 tonnes 15100 S   \n",
       "2 2         2617      1962 tonnes 15100 S   \n",
       "3 2         2617      1963 tonnes 15100 S   \n",
       "4 2         2617      1964 tonnes 18400 S   \n",
       "5 2         2617      1965 tonnes 20400 S   "
      ]
     },
     "metadata": {},
     "output_type": "display_data"
    }
   ],
   "source": [
    "sql = 'SELECT * from fao.cb_production LIMIT 5;'\n",
    "dtab = dbGetQuery(con, sql)\n",
    "dtab"
   ]
  },
  {
   "cell_type": "markdown",
   "metadata": {},
   "source": [
    "### What if we want only the values for year 2013"
   ]
  },
  {
   "cell_type": "code",
   "execution_count": 11,
   "metadata": {},
   "outputs": [
    {
     "data": {
      "text/html": [
       "<table>\n",
       "<thead><tr><th scope=col>area_code</th><th scope=col>item_code</th><th scope=col>year</th><th scope=col>unit</th><th scope=col>value</th><th scope=col>flag</th></tr></thead>\n",
       "<tbody>\n",
       "\t<tr><td>2     </td><td>2617  </td><td>2013  </td><td>tonnes</td><td> 78597</td><td>S     </td></tr>\n",
       "\t<tr><td>2     </td><td>2513  </td><td>2013  </td><td>tonnes</td><td>514000</td><td>S     </td></tr>\n",
       "\t<tr><td>2     </td><td>2600  </td><td>2013  </td><td>tonnes</td><td>441732</td><td>S     </td></tr>\n",
       "\t<tr><td>2     </td><td>2614  </td><td>2013  </td><td>tonnes</td><td>  3000</td><td>S     </td></tr>\n",
       "\t<tr><td>2     </td><td>2661  </td><td>2013  </td><td>tonnes</td><td> 13917</td><td>S     </td></tr>\n",
       "</tbody>\n",
       "</table>\n"
      ],
      "text/latex": [
       "\\begin{tabular}{r|llllll}\n",
       " area\\_code & item\\_code & year & unit & value & flag\\\\\n",
       "\\hline\n",
       "\t 2      & 2617   & 2013   & tonnes &  78597 & S     \\\\\n",
       "\t 2      & 2513   & 2013   & tonnes & 514000 & S     \\\\\n",
       "\t 2      & 2600   & 2013   & tonnes & 441732 & S     \\\\\n",
       "\t 2      & 2614   & 2013   & tonnes &   3000 & S     \\\\\n",
       "\t 2      & 2661   & 2013   & tonnes &  13917 & S     \\\\\n",
       "\\end{tabular}\n"
      ],
      "text/markdown": [
       "\n",
       "| area_code | item_code | year | unit | value | flag |\n",
       "|---|---|---|---|---|---|\n",
       "| 2      | 2617   | 2013   | tonnes |  78597 | S      |\n",
       "| 2      | 2513   | 2013   | tonnes | 514000 | S      |\n",
       "| 2      | 2600   | 2013   | tonnes | 441732 | S      |\n",
       "| 2      | 2614   | 2013   | tonnes |   3000 | S      |\n",
       "| 2      | 2661   | 2013   | tonnes |  13917 | S      |\n",
       "\n"
      ],
      "text/plain": [
       "  area_code item_code year unit   value  flag\n",
       "1 2         2617      2013 tonnes  78597 S   \n",
       "2 2         2513      2013 tonnes 514000 S   \n",
       "3 2         2600      2013 tonnes 441732 S   \n",
       "4 2         2614      2013 tonnes   3000 S   \n",
       "5 2         2661      2013 tonnes  13917 S   "
      ]
     },
     "metadata": {},
     "output_type": "display_data"
    }
   ],
   "source": [
    "sql = 'SELECT * from fao.cb_production WHERE year = 2013 LIMIT 5;'\n",
    "dbGetQuery(con, sql)"
   ]
  },
  {
   "cell_type": "markdown",
   "metadata": {},
   "source": [
    "## Asigning an alias in the query\n",
    "We may wish to shorten the name of what we are querying to save typing later on. Here we give the commodity balance production table the name `p`."
   ]
  },
  {
   "cell_type": "code",
   "execution_count": 12,
   "metadata": {},
   "outputs": [
    {
     "data": {
      "text/html": [
       "<table>\n",
       "<thead><tr><th scope=col>area_code</th><th scope=col>item_code</th><th scope=col>year</th><th scope=col>unit</th><th scope=col>value</th><th scope=col>flag</th></tr></thead>\n",
       "<tbody>\n",
       "\t<tr><td>2     </td><td>2617  </td><td>2013  </td><td>tonnes</td><td> 78597</td><td>S     </td></tr>\n",
       "\t<tr><td>2     </td><td>2513  </td><td>2013  </td><td>tonnes</td><td>514000</td><td>S     </td></tr>\n",
       "\t<tr><td>2     </td><td>2600  </td><td>2013  </td><td>tonnes</td><td>441732</td><td>S     </td></tr>\n",
       "\t<tr><td>2     </td><td>2614  </td><td>2013  </td><td>tonnes</td><td>  3000</td><td>S     </td></tr>\n",
       "\t<tr><td>2     </td><td>2661  </td><td>2013  </td><td>tonnes</td><td> 13917</td><td>S     </td></tr>\n",
       "</tbody>\n",
       "</table>\n"
      ],
      "text/latex": [
       "\\begin{tabular}{r|llllll}\n",
       " area\\_code & item\\_code & year & unit & value & flag\\\\\n",
       "\\hline\n",
       "\t 2      & 2617   & 2013   & tonnes &  78597 & S     \\\\\n",
       "\t 2      & 2513   & 2013   & tonnes & 514000 & S     \\\\\n",
       "\t 2      & 2600   & 2013   & tonnes & 441732 & S     \\\\\n",
       "\t 2      & 2614   & 2013   & tonnes &   3000 & S     \\\\\n",
       "\t 2      & 2661   & 2013   & tonnes &  13917 & S     \\\\\n",
       "\\end{tabular}\n"
      ],
      "text/markdown": [
       "\n",
       "| area_code | item_code | year | unit | value | flag |\n",
       "|---|---|---|---|---|---|\n",
       "| 2      | 2617   | 2013   | tonnes |  78597 | S      |\n",
       "| 2      | 2513   | 2013   | tonnes | 514000 | S      |\n",
       "| 2      | 2600   | 2013   | tonnes | 441732 | S      |\n",
       "| 2      | 2614   | 2013   | tonnes |   3000 | S      |\n",
       "| 2      | 2661   | 2013   | tonnes |  13917 | S      |\n",
       "\n"
      ],
      "text/plain": [
       "  area_code item_code year unit   value  flag\n",
       "1 2         2617      2013 tonnes  78597 S   \n",
       "2 2         2513      2013 tonnes 514000 S   \n",
       "3 2         2600      2013 tonnes 441732 S   \n",
       "4 2         2614      2013 tonnes   3000 S   \n",
       "5 2         2661      2013 tonnes  13917 S   "
      ]
     },
     "metadata": {},
     "output_type": "display_data"
    }
   ],
   "source": [
    "sql = '\n",
    "    SELECT * \n",
    "    FROM fao.cb_production p \n",
    "    WHERE p.year = 2013 \n",
    "    LIMIT 5;'\n",
    "dbGetQuery(con, sql)"
   ]
  },
  {
   "cell_type": "markdown",
   "metadata": {},
   "source": [
    "## Link two tables\n",
    "Sometimes we wish to combine two tables to produce an output. We can do this through one of the many possible join commands. Here we join our item table with the current one on the item_code columns (conveniently named the same in both tables) using `JOIN items i ON(p.item_code = i.item_code)`\n"
   ]
  },
  {
   "cell_type": "code",
   "execution_count": 13,
   "metadata": {},
   "outputs": [
    {
     "data": {
      "text/html": [
       "<table>\n",
       "<thead><tr><th scope=col>area_code</th><th scope=col>item_code</th><th scope=col>year</th><th scope=col>unit</th><th scope=col>value</th><th scope=col>flag</th><th scope=col>item_code</th><th scope=col>item</th></tr></thead>\n",
       "<tbody>\n",
       "\t<tr><td>2                              </td><td>2617                           </td><td>2013                           </td><td>tonnes                         </td><td> 78597                         </td><td>S                              </td><td>2617                           </td><td>Apples and products            </td></tr>\n",
       "\t<tr><td>2                              </td><td>2513                           </td><td>2013                           </td><td>tonnes                         </td><td>514000                         </td><td>S                              </td><td>2513                           </td><td>Barley and products            </td></tr>\n",
       "\t<tr><td>2                              </td><td>2600                           </td><td>2013                           </td><td>tonnes                         </td><td>441732                         </td><td>S                              </td><td>2600                           </td><td>Brans                          </td></tr>\n",
       "\t<tr><td>2                              </td><td>2614                           </td><td>2013                           </td><td>tonnes                         </td><td>  3000                         </td><td>S                              </td><td>2614                           </td><td>Citrus, Other                  </td></tr>\n",
       "\t<tr><td>2                              </td><td>2661                           </td><td>2013                           </td><td>tonnes                         </td><td> 13917                         </td><td>S                              </td><td>2661                           </td><td>Cotton lint                    </td></tr>\n",
       "\t<tr><td>2                              </td><td>2559                           </td><td>2013                           </td><td>tonnes                         </td><td> 27412                         </td><td>S                              </td><td>2559                           </td><td>Cottonseed                     </td></tr>\n",
       "\t<tr><td>2                              </td><td>2594                           </td><td>2013                           </td><td>tonnes                         </td><td> 11769                         </td><td>S                              </td><td>2594                           </td><td>Cottonseed Cake                </td></tr>\n",
       "\t<tr><td>2                              </td><td>2575                           </td><td>2013                           </td><td>tonnes                         </td><td>  4707                         </td><td>S                              </td><td>2575                           </td><td>Cottonseed Oil                 </td></tr>\n",
       "\t<tr><td>2                              </td><td>2625                           </td><td>2013                           </td><td>tonnes                         </td><td>303788                         </td><td>S                              </td><td>2625                           </td><td>Fruits, Other                  </td></tr>\n",
       "\t<tr><td>2                              </td><td>2620                           </td><td>2013                           </td><td>tonnes                         </td><td>610570                         </td><td>S                              </td><td>2620                           </td><td>Grapes and products (excl wine)</td></tr>\n",
       "</tbody>\n",
       "</table>\n"
      ],
      "text/latex": [
       "\\begin{tabular}{r|llllllll}\n",
       " area\\_code & item\\_code & year & unit & value & flag & item\\_code & item\\\\\n",
       "\\hline\n",
       "\t 2                               & 2617                            & 2013                            & tonnes                          &  78597                          & S                               & 2617                            & Apples and products            \\\\\n",
       "\t 2                               & 2513                            & 2013                            & tonnes                          & 514000                          & S                               & 2513                            & Barley and products            \\\\\n",
       "\t 2                               & 2600                            & 2013                            & tonnes                          & 441732                          & S                               & 2600                            & Brans                          \\\\\n",
       "\t 2                               & 2614                            & 2013                            & tonnes                          &   3000                          & S                               & 2614                            & Citrus, Other                  \\\\\n",
       "\t 2                               & 2661                            & 2013                            & tonnes                          &  13917                          & S                               & 2661                            & Cotton lint                    \\\\\n",
       "\t 2                               & 2559                            & 2013                            & tonnes                          &  27412                          & S                               & 2559                            & Cottonseed                     \\\\\n",
       "\t 2                               & 2594                            & 2013                            & tonnes                          &  11769                          & S                               & 2594                            & Cottonseed Cake                \\\\\n",
       "\t 2                               & 2575                            & 2013                            & tonnes                          &   4707                          & S                               & 2575                            & Cottonseed Oil                 \\\\\n",
       "\t 2                               & 2625                            & 2013                            & tonnes                          & 303788                          & S                               & 2625                            & Fruits, Other                  \\\\\n",
       "\t 2                               & 2620                            & 2013                            & tonnes                          & 610570                          & S                               & 2620                            & Grapes and products (excl wine)\\\\\n",
       "\\end{tabular}\n"
      ],
      "text/markdown": [
       "\n",
       "| area_code | item_code | year | unit | value | flag | item_code | item |\n",
       "|---|---|---|---|---|---|---|---|\n",
       "| 2                               | 2617                            | 2013                            | tonnes                          |  78597                          | S                               | 2617                            | Apples and products             |\n",
       "| 2                               | 2513                            | 2013                            | tonnes                          | 514000                          | S                               | 2513                            | Barley and products             |\n",
       "| 2                               | 2600                            | 2013                            | tonnes                          | 441732                          | S                               | 2600                            | Brans                           |\n",
       "| 2                               | 2614                            | 2013                            | tonnes                          |   3000                          | S                               | 2614                            | Citrus, Other                   |\n",
       "| 2                               | 2661                            | 2013                            | tonnes                          |  13917                          | S                               | 2661                            | Cotton lint                     |\n",
       "| 2                               | 2559                            | 2013                            | tonnes                          |  27412                          | S                               | 2559                            | Cottonseed                      |\n",
       "| 2                               | 2594                            | 2013                            | tonnes                          |  11769                          | S                               | 2594                            | Cottonseed Cake                 |\n",
       "| 2                               | 2575                            | 2013                            | tonnes                          |   4707                          | S                               | 2575                            | Cottonseed Oil                  |\n",
       "| 2                               | 2625                            | 2013                            | tonnes                          | 303788                          | S                               | 2625                            | Fruits, Other                   |\n",
       "| 2                               | 2620                            | 2013                            | tonnes                          | 610570                          | S                               | 2620                            | Grapes and products (excl wine) |\n",
       "\n"
      ],
      "text/plain": [
       "   area_code item_code year unit   value  flag item_code\n",
       "1  2         2617      2013 tonnes  78597 S    2617     \n",
       "2  2         2513      2013 tonnes 514000 S    2513     \n",
       "3  2         2600      2013 tonnes 441732 S    2600     \n",
       "4  2         2614      2013 tonnes   3000 S    2614     \n",
       "5  2         2661      2013 tonnes  13917 S    2661     \n",
       "6  2         2559      2013 tonnes  27412 S    2559     \n",
       "7  2         2594      2013 tonnes  11769 S    2594     \n",
       "8  2         2575      2013 tonnes   4707 S    2575     \n",
       "9  2         2625      2013 tonnes 303788 S    2625     \n",
       "10 2         2620      2013 tonnes 610570 S    2620     \n",
       "   item                           \n",
       "1  Apples and products            \n",
       "2  Barley and products            \n",
       "3  Brans                          \n",
       "4  Citrus, Other                  \n",
       "5  Cotton lint                    \n",
       "6  Cottonseed                     \n",
       "7  Cottonseed Cake                \n",
       "8  Cottonseed Oil                 \n",
       "9  Fruits, Other                  \n",
       "10 Grapes and products (excl wine)"
      ]
     },
     "metadata": {},
     "output_type": "display_data"
    }
   ],
   "source": [
    "sql = '\n",
    "    SELECT * \n",
    "    FROM fao.cb_production p \n",
    "    JOIN fao.items i ON(p.item_code = i.item_code) \n",
    "    WHERE p.year=2013  \n",
    "    LIMIT 10;'\n",
    "dbGetQuery(con, sql)"
   ]
  },
  {
   "cell_type": "markdown",
   "metadata": {},
   "source": [
    "## Unique (DISTINCT) values\n",
    "If we dont want duplicates, we can always call upon the distinct selector. "
   ]
  },
  {
   "cell_type": "code",
   "execution_count": 14,
   "metadata": {},
   "outputs": [
    {
     "data": {
      "text/html": [
       "<table>\n",
       "<thead><tr><th scope=col>year</th></tr></thead>\n",
       "<tbody>\n",
       "\t<tr><td>2013</td></tr>\n",
       "\t<tr><td>2012</td></tr>\n",
       "\t<tr><td>2011</td></tr>\n",
       "\t<tr><td>2010</td></tr>\n",
       "\t<tr><td>2009</td></tr>\n",
       "</tbody>\n",
       "</table>\n"
      ],
      "text/latex": [
       "\\begin{tabular}{r|l}\n",
       " year\\\\\n",
       "\\hline\n",
       "\t 2013\\\\\n",
       "\t 2012\\\\\n",
       "\t 2011\\\\\n",
       "\t 2010\\\\\n",
       "\t 2009\\\\\n",
       "\\end{tabular}\n"
      ],
      "text/markdown": [
       "\n",
       "| year |\n",
       "|---|\n",
       "| 2013 |\n",
       "| 2012 |\n",
       "| 2011 |\n",
       "| 2010 |\n",
       "| 2009 |\n",
       "\n"
      ],
      "text/plain": [
       "  year\n",
       "1 2013\n",
       "2 2012\n",
       "3 2011\n",
       "4 2010\n",
       "5 2009"
      ]
     },
     "metadata": {},
     "output_type": "display_data"
    }
   ],
   "source": [
    "# Get all the years in the year column, and return a list with no duplicates\n",
    "sql = 'SELECT DISTINCT year \n",
    "       FROM fao.cb_production \n",
    "       ORDER BY \"year\" DESC\n",
    "       LIMIT 5\n",
    "'\n",
    "dbGetQuery(con, sql)\n",
    "\n"
   ]
  },
  {
   "cell_type": "code",
   "execution_count": null,
   "metadata": {},
   "outputs": [],
   "source": []
  }
 ],
 "metadata": {
  "kernelspec": {
   "display_name": "R",
   "language": "R",
   "name": "ir"
  },
  "language_info": {
   "codemirror_mode": "r",
   "file_extension": ".r",
   "mimetype": "text/x-r-source",
   "name": "R",
   "pygments_lexer": "r",
   "version": "3.6.1"
  }
 },
 "nbformat": 4,
 "nbformat_minor": 2
}
